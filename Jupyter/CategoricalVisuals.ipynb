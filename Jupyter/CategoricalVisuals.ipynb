{
 "cells": [
  {
   "cell_type": "code",
   "execution_count": 1,
   "metadata": {
    "collapsed": true
   },
   "outputs": [],
   "source": [
    "from bokeh.plotting import figure\n",
    "from bokeh.io import output_file, show\n",
    "\n",
    "output_file(\"output/students.html\")\n",
    "\n",
    "f = figure(x_range=[\"A\", \"B\", \"C\", \"D\", \"E\", \"F\"],\n",
    "           y_range=[\"A\", \"B\", \"C\", \"D\", \"F\", \"F\"])\n",
    "\n",
    "f.circle(x=[\"A\", \"B\"], y=[\"C\", \"D\"], size=8)\n",
    "\n",
    "show(f)"
   ]
  }
 ],
 "metadata": {
  "kernelspec": {
   "display_name": "Python 3",
   "language": "python",
   "name": "python3"
  },
  "language_info": {
   "codemirror_mode": {
    "name": "ipython",
    "version": 3
   },
   "file_extension": ".py",
   "mimetype": "text/x-python",
   "name": "python",
   "nbconvert_exporter": "python",
   "pygments_lexer": "ipython3",
   "version": "3.6.1"
  }
 },
 "nbformat": 4,
 "nbformat_minor": 2
}
